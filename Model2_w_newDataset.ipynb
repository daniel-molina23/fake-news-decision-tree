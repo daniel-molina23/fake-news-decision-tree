{
  "nbformat": 4,
  "nbformat_minor": 0,
  "metadata": {
    "colab": {
      "name": "Model2_w_newDataset.ipynb",
      "provenance": [],
      "collapsed_sections": [],
      "toc_visible": true,
      "include_colab_link": true
    },
    "kernelspec": {
      "name": "python3",
      "display_name": "Python 3"
    }
  },
  "cells": [
    {
      "cell_type": "markdown",
      "metadata": {
        "id": "view-in-github",
        "colab_type": "text"
      },
      "source": [
        "<a href=\"https://colab.research.google.com/github/daniel-molina23/fake-news-decision-tree/blob/daniel-develop/Model2_w_newDataset.ipynb\" target=\"_parent\"><img src=\"https://colab.research.google.com/assets/colab-badge.svg\" alt=\"Open In Colab\"/></a>"
      ]
    },
    {
      "cell_type": "code",
      "metadata": {
        "id": "sMMfGwXPjAIP",
        "outputId": "0e4e052c-4c66-4f12-faf6-55bf758137d7",
        "colab": {
          "base_uri": "https://localhost:8080/",
          "height": 35
        }
      },
      "source": [
        "import pandas as pd\n",
        "\n",
        "# you can download this dataset from the github repo\n",
        "df = pd.read_csv('polifact_mix_enumerated.csv')\n",
        "\n",
        "poli_mix = pd.DataFrame(df)\n",
        "\n",
        "poli_mix.shape"
      ],
      "execution_count": 44,
      "outputs": [
        {
          "output_type": "execute_result",
          "data": {
            "text/plain": [
              "(1056, 6)"
            ]
          },
          "metadata": {
            "tags": []
          },
          "execution_count": 44
        }
      ]
    },
    {
      "cell_type": "code",
      "metadata": {
        "id": "p7Lev0IGU6m1",
        "outputId": "8f35dfc0-fb8c-4101-a39d-52f0bc72c6a0",
        "colab": {
          "base_uri": "https://localhost:8080/",
          "height": 650
        }
      },
      "source": [
        "poli_mix.head(10)\n",
        "# already used the poli_mix.dropna() on previous dataset, this is new dataset"
      ],
      "execution_count": 45,
      "outputs": [
        {
          "output_type": "execute_result",
          "data": {
            "text/html": [
              "<div>\n",
              "<style scoped>\n",
              "    .dataframe tbody tr th:only-of-type {\n",
              "        vertical-align: middle;\n",
              "    }\n",
              "\n",
              "    .dataframe tbody tr th {\n",
              "        vertical-align: top;\n",
              "    }\n",
              "\n",
              "    .dataframe thead th {\n",
              "        text-align: right;\n",
              "    }\n",
              "</style>\n",
              "<table border=\"1\" class=\"dataframe\">\n",
              "  <thead>\n",
              "    <tr style=\"text-align: right;\">\n",
              "      <th></th>\n",
              "      <th>id</th>\n",
              "      <th>news_url</th>\n",
              "      <th>title</th>\n",
              "      <th>tweet_ids</th>\n",
              "      <th>internal_links</th>\n",
              "      <th>label</th>\n",
              "    </tr>\n",
              "  </thead>\n",
              "  <tbody>\n",
              "    <tr>\n",
              "      <th>0</th>\n",
              "      <td>politifact14095</td>\n",
              "      <td>https://usawatchdog.com/clinton-foundation-lar...</td>\n",
              "      <td>Clinton Foundation Largest Unprosecuted Charit...</td>\n",
              "      <td>0</td>\n",
              "      <td>1444</td>\n",
              "      <td>1</td>\n",
              "    </tr>\n",
              "    <tr>\n",
              "      <th>1</th>\n",
              "      <td>politifact14085</td>\n",
              "      <td>usleader.net/index.php/2017/05/11/breaking-bil...</td>\n",
              "      <td>BREAKING: Bill O’Reilly In Critical Condition ...</td>\n",
              "      <td>0</td>\n",
              "      <td>1</td>\n",
              "      <td>1</td>\n",
              "    </tr>\n",
              "    <tr>\n",
              "      <th>2</th>\n",
              "      <td>politifact14187</td>\n",
              "      <td>http://rip.trendolizer.com/2017/06/breaking-mo...</td>\n",
              "      <td>BREAKING: Monica Lewinsky Found Dead In Roslin...</td>\n",
              "      <td>580</td>\n",
              "      <td>1</td>\n",
              "      <td>1</td>\n",
              "    </tr>\n",
              "    <tr>\n",
              "      <th>3</th>\n",
              "      <td>politifact13484</td>\n",
              "      <td>https://www.washingtonpost.com/graphics/politi...</td>\n",
              "      <td>Thinking about writing in a candidate on Elect...</td>\n",
              "      <td>1</td>\n",
              "      <td>234</td>\n",
              "      <td>1</td>\n",
              "    </tr>\n",
              "    <tr>\n",
              "      <th>4</th>\n",
              "      <td>politifact12120</td>\n",
              "      <td>http://politicaladarchive.org/ad/PolAd_BernieS...</td>\n",
              "      <td>Political TV Ad Archive » PolAd</td>\n",
              "      <td>0</td>\n",
              "      <td>71</td>\n",
              "      <td>0</td>\n",
              "    </tr>\n",
              "    <tr>\n",
              "      <th>5</th>\n",
              "      <td>politifact14506</td>\n",
              "      <td>https://yournewswire.com/tens-of-thousands-of-...</td>\n",
              "      <td>Tens of Thousands Of Scientists Declare Climat...</td>\n",
              "      <td>22</td>\n",
              "      <td>355</td>\n",
              "      <td>1</td>\n",
              "    </tr>\n",
              "    <tr>\n",
              "      <th>6</th>\n",
              "      <td>politifact13475</td>\n",
              "      <td>genius.com/discussions/219349-Donald-trump-pro...</td>\n",
              "      <td>Donald Trump Protester Speaks Out: “I Was Paid...</td>\n",
              "      <td>525</td>\n",
              "      <td>1</td>\n",
              "      <td>1</td>\n",
              "    </tr>\n",
              "    <tr>\n",
              "      <th>7</th>\n",
              "      <td>politifact5469</td>\n",
              "      <td>http://www.youtube.com/watch?v=TuYCknrJZ7A</td>\n",
              "      <td>White and Blue Fund ad</td>\n",
              "      <td>27</td>\n",
              "      <td>147</td>\n",
              "      <td>0</td>\n",
              "    </tr>\n",
              "    <tr>\n",
              "      <th>8</th>\n",
              "      <td>politifact14499</td>\n",
              "      <td>http://theeconomiccollapseblog.com/archives/hu...</td>\n",
              "      <td>Hurricane Irma: If There Was Such A Thing As A...</td>\n",
              "      <td>929</td>\n",
              "      <td>194</td>\n",
              "      <td>1</td>\n",
              "    </tr>\n",
              "    <tr>\n",
              "      <th>9</th>\n",
              "      <td>politifact95</td>\n",
              "      <td>http://findarticles.com/p/articles/mi_qn4155/i...</td>\n",
              "      <td>FindArticles.com</td>\n",
              "      <td>0</td>\n",
              "      <td>19</td>\n",
              "      <td>0</td>\n",
              "    </tr>\n",
              "  </tbody>\n",
              "</table>\n",
              "</div>"
            ],
            "text/plain": [
              "                id  ... label\n",
              "0  politifact14095  ...     1\n",
              "1  politifact14085  ...     1\n",
              "2  politifact14187  ...     1\n",
              "3  politifact13484  ...     1\n",
              "4  politifact12120  ...     0\n",
              "5  politifact14506  ...     1\n",
              "6  politifact13475  ...     1\n",
              "7   politifact5469  ...     0\n",
              "8  politifact14499  ...     1\n",
              "9     politifact95  ...     0\n",
              "\n",
              "[10 rows x 6 columns]"
            ]
          },
          "metadata": {
            "tags": []
          },
          "execution_count": 45
        }
      ]
    },
    {
      "cell_type": "markdown",
      "metadata": {
        "id": "AZ12EYm0V0rQ"
      },
      "source": [
        "# Potential features...\n",
        "\n",
        "*   com, co, gov, etc (domain parser)\n",
        "*   https, http, or neither (https is far more secure!)\n",
        "\n",
        "*   number of tweet id's per link\n",
        "*   embedded links within news_url (already webscrapped)"
      ]
    },
    {
      "cell_type": "code",
      "metadata": {
        "id": "cPFXG5ddRNU1",
        "outputId": "8682cfb1-739b-47dd-a7ff-a0b793d3ab7f",
        "colab": {
          "base_uri": "https://localhost:8080/",
          "height": 35
        }
      },
      "source": [
        "# most common domains (45 total)\n",
        "domain = [\".com/\", \".org/\", \".edu/\", \".gov/\", \".uk/\", \".net/\", \".ca/\", \".de/\", \".jp/\", \".fr/\", \".au/\", \".us/\", \".ru/\", \".ch/\", \".it/\", \".nl/\", \".se/\", \".no/\", \".es/\", \".mil/\", \".ly/\", \".tel/\", \".kitchen/\", \".email/\", \".tech/\", \".estate/\", \".xyz/\", \".codes/\", \".bargains/\", \".bid/\", \".expert/\", \".co/\", \".name/\", \".mobi/\", \".asia/\", \".biz/\", \".arpa/\", \".cat/\", \".jobs/\", \".info/\", \".int/\", \".pro/\", \".aero/\", \".travel/\", \".coop/\"]\n",
        "d_encoding = [index for index in range(len(domain))] # encoded by index\n",
        "print(len(domain) == len(d_encoding))\n",
        "\n",
        "# Protocols for encryption\n",
        "protocol = [\"no_protocol\", \"http\", \"https\"]\n",
        "p_encoding = [0, 1, 2]\n",
        "\n",
        "# Number of tweet id's per row\n"
      ],
      "execution_count": 46,
      "outputs": [
        {
          "output_type": "stream",
          "text": [
            "True\n"
          ],
          "name": "stdout"
        }
      ]
    },
    {
      "cell_type": "code",
      "metadata": {
        "id": "AQAMPY8NZBOY",
        "outputId": "0e5a7ffc-aec6-47b7-86b2-51fd3af6a212",
        "colab": {
          "base_uri": "https://localhost:8080/",
          "height": 35
        }
      },
      "source": [
        "# data_domain method\n",
        "def encodeDomain(link):\n",
        "  num = len(domain) # none of the domains encoding, default\n",
        "  if isinstance(link, float): # nan, therefore return\n",
        "    return num\n",
        "  for i in range(len(domain)):\n",
        "    if domain[i] in link:\n",
        "      num = i\n",
        "  return num\n",
        "\n",
        "# data_protocol method\n",
        "def configProtocol(link):\n",
        "  if isinstance(link, float): # nan, therefore return\n",
        "    return 0\n",
        "  elif link[:5] == \"https\":\n",
        "    return 2\n",
        "  elif link[:4] == \"http\":\n",
        "    return 1\n",
        "  else:\n",
        "    return 0\n",
        "\n",
        "\n",
        "####################\n",
        "\n",
        "data_protocol = []\n",
        "data_domain = []\n",
        "for link in poli_mix[\"news_url\"]:\n",
        "  data_domain.append(encodeDomain(link)) # returns domain encoding\n",
        "  data_protocol.append(configProtocol(link)) # returns either 'https', 'http', or 'neither'\n",
        "\n",
        "\n",
        "label = poli_mix.label\n",
        "\n",
        "# are all strings the same length????\n",
        "print(len(data_domain) == len(data_protocol) == len(label))\n"
      ],
      "execution_count": 47,
      "outputs": [
        {
          "output_type": "stream",
          "text": [
            "True\n"
          ],
          "name": "stdout"
        }
      ]
    },
    {
      "cell_type": "code",
      "metadata": {
        "id": "uyGSjMwRuNbb",
        "outputId": "4edd02a0-29b9-4cad-ec64-c1f48b7a3dc3",
        "colab": {
          "base_uri": "https://localhost:8080/",
          "height": 243
        }
      },
      "source": [
        "# data_domain, all numbers\n",
        "# d_encoding (indices of domain)\n",
        "# domain (list of string domains)\n",
        "d_freq = dict()\n",
        "d_set = set(domain)\n",
        "for i in data_domain:\n",
        "  if i == len(domain):\n",
        "    if \"NULL\" not in d_freq:\n",
        "      d_freq[\"NULL\"] = 1\n",
        "    else:\n",
        "      d_freq[\"NULL\"] += 1\n",
        "    continue # go to next iteration\n",
        "\n",
        "  if domain[i] not in d_freq:\n",
        "    d_freq[domain[i]] = 1\n",
        "  else: # valid\n",
        "    d_freq[domain[i]] += 1\n",
        "\n",
        "display(d_freq)"
      ],
      "execution_count": 48,
      "outputs": [
        {
          "output_type": "display_data",
          "data": {
            "text/plain": [
              "{'.co/': 4,\n",
              " '.com/': 571,\n",
              " '.edu/': 4,\n",
              " '.gov/': 119,\n",
              " '.info/': 7,\n",
              " '.mil/': 1,\n",
              " '.net/': 17,\n",
              " '.org/': 217,\n",
              " '.ru/': 1,\n",
              " '.uk/': 6,\n",
              " '.us/': 12,\n",
              " '.xyz/': 1,\n",
              " 'NULL': 96}"
            ]
          },
          "metadata": {
            "tags": []
          }
        }
      ]
    },
    {
      "cell_type": "code",
      "metadata": {
        "id": "CW9yLYf7XB4B",
        "outputId": "b51cdbcb-a12d-45ad-a9f7-4eb3369f1fd5",
        "colab": {
          "base_uri": "https://localhost:8080/",
          "height": 35
        }
      },
      "source": [
        "poli_mix.columns"
      ],
      "execution_count": 49,
      "outputs": [
        {
          "output_type": "execute_result",
          "data": {
            "text/plain": [
              "Index(['id', 'news_url', 'title', 'tweet_ids', 'internal_links', 'label'], dtype='object')"
            ]
          },
          "metadata": {
            "tags": []
          },
          "execution_count": 49
        }
      ]
    },
    {
      "cell_type": "code",
      "metadata": {
        "id": "eCGBkcispuit",
        "outputId": "9f1c2ee3-f3bb-4323-f8ad-680be5eb6d3a",
        "colab": {
          "base_uri": "https://localhost:8080/",
          "height": 355
        }
      },
      "source": [
        "clean_data = pd.DataFrame({\n",
        "    \"domain_type\":data_domain,\n",
        "    \"protocol\": data_protocol,\n",
        "    \"tweet_ids\": poli_mix['tweet_ids'],\n",
        "    \"internal_links\": poli_mix['internal_links'],\n",
        "    \"label\": poli_mix.label\n",
        "})\n",
        "\n",
        "clean_data.head(10)"
      ],
      "execution_count": 50,
      "outputs": [
        {
          "output_type": "execute_result",
          "data": {
            "text/html": [
              "<div>\n",
              "<style scoped>\n",
              "    .dataframe tbody tr th:only-of-type {\n",
              "        vertical-align: middle;\n",
              "    }\n",
              "\n",
              "    .dataframe tbody tr th {\n",
              "        vertical-align: top;\n",
              "    }\n",
              "\n",
              "    .dataframe thead th {\n",
              "        text-align: right;\n",
              "    }\n",
              "</style>\n",
              "<table border=\"1\" class=\"dataframe\">\n",
              "  <thead>\n",
              "    <tr style=\"text-align: right;\">\n",
              "      <th></th>\n",
              "      <th>domain_type</th>\n",
              "      <th>protocol</th>\n",
              "      <th>tweet_ids</th>\n",
              "      <th>internal_links</th>\n",
              "      <th>label</th>\n",
              "    </tr>\n",
              "  </thead>\n",
              "  <tbody>\n",
              "    <tr>\n",
              "      <th>0</th>\n",
              "      <td>0</td>\n",
              "      <td>2</td>\n",
              "      <td>0</td>\n",
              "      <td>1444</td>\n",
              "      <td>1</td>\n",
              "    </tr>\n",
              "    <tr>\n",
              "      <th>1</th>\n",
              "      <td>5</td>\n",
              "      <td>0</td>\n",
              "      <td>0</td>\n",
              "      <td>1</td>\n",
              "      <td>1</td>\n",
              "    </tr>\n",
              "    <tr>\n",
              "      <th>2</th>\n",
              "      <td>0</td>\n",
              "      <td>1</td>\n",
              "      <td>580</td>\n",
              "      <td>1</td>\n",
              "      <td>1</td>\n",
              "    </tr>\n",
              "    <tr>\n",
              "      <th>3</th>\n",
              "      <td>0</td>\n",
              "      <td>2</td>\n",
              "      <td>1</td>\n",
              "      <td>234</td>\n",
              "      <td>1</td>\n",
              "    </tr>\n",
              "    <tr>\n",
              "      <th>4</th>\n",
              "      <td>1</td>\n",
              "      <td>1</td>\n",
              "      <td>0</td>\n",
              "      <td>71</td>\n",
              "      <td>0</td>\n",
              "    </tr>\n",
              "    <tr>\n",
              "      <th>5</th>\n",
              "      <td>0</td>\n",
              "      <td>2</td>\n",
              "      <td>22</td>\n",
              "      <td>355</td>\n",
              "      <td>1</td>\n",
              "    </tr>\n",
              "    <tr>\n",
              "      <th>6</th>\n",
              "      <td>0</td>\n",
              "      <td>0</td>\n",
              "      <td>525</td>\n",
              "      <td>1</td>\n",
              "      <td>1</td>\n",
              "    </tr>\n",
              "    <tr>\n",
              "      <th>7</th>\n",
              "      <td>0</td>\n",
              "      <td>1</td>\n",
              "      <td>27</td>\n",
              "      <td>147</td>\n",
              "      <td>0</td>\n",
              "    </tr>\n",
              "    <tr>\n",
              "      <th>8</th>\n",
              "      <td>0</td>\n",
              "      <td>1</td>\n",
              "      <td>929</td>\n",
              "      <td>194</td>\n",
              "      <td>1</td>\n",
              "    </tr>\n",
              "    <tr>\n",
              "      <th>9</th>\n",
              "      <td>0</td>\n",
              "      <td>1</td>\n",
              "      <td>0</td>\n",
              "      <td>19</td>\n",
              "      <td>0</td>\n",
              "    </tr>\n",
              "  </tbody>\n",
              "</table>\n",
              "</div>"
            ],
            "text/plain": [
              "   domain_type  protocol  tweet_ids  internal_links  label\n",
              "0            0         2          0            1444      1\n",
              "1            5         0          0               1      1\n",
              "2            0         1        580               1      1\n",
              "3            0         2          1             234      1\n",
              "4            1         1          0              71      0\n",
              "5            0         2         22             355      1\n",
              "6            0         0        525               1      1\n",
              "7            0         1         27             147      0\n",
              "8            0         1        929             194      1\n",
              "9            0         1          0              19      0"
            ]
          },
          "metadata": {
            "tags": []
          },
          "execution_count": 50
        }
      ]
    },
    {
      "cell_type": "code",
      "metadata": {
        "id": "M4KoHr56yPPv"
      },
      "source": [
        "from sklearn.tree import DecisionTreeClassifier # Import Decision Tree Classifier\n",
        "from sklearn.model_selection import train_test_split # Import train_test_split function\n",
        "from sklearn import metrics #Import scikit-learn metrics module for accuracy calculation"
      ],
      "execution_count": 51,
      "outputs": []
    },
    {
      "cell_type": "code",
      "metadata": {
        "id": "Qg4j2GTTyk90",
        "outputId": "c4f7af34-6eaa-4ae9-aa8b-3d81450d389a",
        "colab": {
          "base_uri": "https://localhost:8080/",
          "height": 306
        }
      },
      "source": [
        "features = [\"domain_type\", \"protocol\", \"tweet_ids\", \"internal_links\"]\n",
        "X = clean_data[features]\n",
        "y = clean_data.label\n",
        "\n",
        "display(X.head())\n",
        "display(y.head())"
      ],
      "execution_count": 52,
      "outputs": [
        {
          "output_type": "display_data",
          "data": {
            "text/html": [
              "<div>\n",
              "<style scoped>\n",
              "    .dataframe tbody tr th:only-of-type {\n",
              "        vertical-align: middle;\n",
              "    }\n",
              "\n",
              "    .dataframe tbody tr th {\n",
              "        vertical-align: top;\n",
              "    }\n",
              "\n",
              "    .dataframe thead th {\n",
              "        text-align: right;\n",
              "    }\n",
              "</style>\n",
              "<table border=\"1\" class=\"dataframe\">\n",
              "  <thead>\n",
              "    <tr style=\"text-align: right;\">\n",
              "      <th></th>\n",
              "      <th>domain_type</th>\n",
              "      <th>protocol</th>\n",
              "      <th>tweet_ids</th>\n",
              "      <th>internal_links</th>\n",
              "    </tr>\n",
              "  </thead>\n",
              "  <tbody>\n",
              "    <tr>\n",
              "      <th>0</th>\n",
              "      <td>0</td>\n",
              "      <td>2</td>\n",
              "      <td>0</td>\n",
              "      <td>1444</td>\n",
              "    </tr>\n",
              "    <tr>\n",
              "      <th>1</th>\n",
              "      <td>5</td>\n",
              "      <td>0</td>\n",
              "      <td>0</td>\n",
              "      <td>1</td>\n",
              "    </tr>\n",
              "    <tr>\n",
              "      <th>2</th>\n",
              "      <td>0</td>\n",
              "      <td>1</td>\n",
              "      <td>580</td>\n",
              "      <td>1</td>\n",
              "    </tr>\n",
              "    <tr>\n",
              "      <th>3</th>\n",
              "      <td>0</td>\n",
              "      <td>2</td>\n",
              "      <td>1</td>\n",
              "      <td>234</td>\n",
              "    </tr>\n",
              "    <tr>\n",
              "      <th>4</th>\n",
              "      <td>1</td>\n",
              "      <td>1</td>\n",
              "      <td>0</td>\n",
              "      <td>71</td>\n",
              "    </tr>\n",
              "  </tbody>\n",
              "</table>\n",
              "</div>"
            ],
            "text/plain": [
              "   domain_type  protocol  tweet_ids  internal_links\n",
              "0            0         2          0            1444\n",
              "1            5         0          0               1\n",
              "2            0         1        580               1\n",
              "3            0         2          1             234\n",
              "4            1         1          0              71"
            ]
          },
          "metadata": {
            "tags": []
          }
        },
        {
          "output_type": "display_data",
          "data": {
            "text/plain": [
              "0    1\n",
              "1    1\n",
              "2    1\n",
              "3    1\n",
              "4    0\n",
              "Name: label, dtype: int64"
            ]
          },
          "metadata": {
            "tags": []
          }
        }
      ]
    },
    {
      "cell_type": "code",
      "metadata": {
        "id": "4o8nqcLA1BVo"
      },
      "source": [
        "# Split dataset into training set and test set\n",
        "X_train, X_test, y_train, y_test = train_test_split(X, y, test_size=0.25, random_state=1) # 75% training and 25% test"
      ],
      "execution_count": 53,
      "outputs": []
    },
    {
      "cell_type": "code",
      "metadata": {
        "id": "SbyJZQZf1Iri"
      },
      "source": [
        "clf = DecisionTreeClassifier()\n",
        "\n",
        "# train decision tree\n",
        "clf = clf.fit(X_train, y_train)\n",
        "\n",
        "# predict\n",
        "y_pred = clf.predict(X_test)"
      ],
      "execution_count": 54,
      "outputs": []
    },
    {
      "cell_type": "code",
      "metadata": {
        "id": "4KOcHCD71jGE",
        "outputId": "f68b6339-f2ac-402a-a4f6-e75768e64bb9",
        "colab": {
          "base_uri": "https://localhost:8080/",
          "height": 35
        }
      },
      "source": [
        "# Model Accuracy, how often is the classifier correct?\n",
        "print(\"Accuracy:\",metrics.accuracy_score(y_test, y_pred))"
      ],
      "execution_count": 55,
      "outputs": [
        {
          "output_type": "stream",
          "text": [
            "Accuracy: 0.7878787878787878\n"
          ],
          "name": "stdout"
        }
      ]
    },
    {
      "cell_type": "markdown",
      "metadata": {
        "id": "B1bJaUhR11PR"
      },
      "source": [
        "#Using another type of decision Tree classifier"
      ]
    },
    {
      "cell_type": "code",
      "metadata": {
        "id": "_EGGtTPT10cj",
        "outputId": "7dc3bb01-ba46-4c54-b676-3745f3c54e3c",
        "colab": {
          "base_uri": "https://localhost:8080/",
          "height": 35
        }
      },
      "source": [
        "clf = DecisionTreeClassifier(criterion=\"entropy\", max_depth=9) # the greater the max_depth, can cause overfitting\n",
        "\n",
        "# Train DT\n",
        "clf = clf.fit(X_train,y_train)\n",
        "\n",
        "#Predict response for test dataset\n",
        "y_pred = clf.predict(X_test)\n",
        "\n",
        "\n",
        "print(\"Accuracy:\",metrics.accuracy_score(y_test, y_pred))"
      ],
      "execution_count": 56,
      "outputs": [
        {
          "output_type": "stream",
          "text": [
            "Accuracy: 0.8106060606060606\n"
          ],
          "name": "stdout"
        }
      ]
    }
  ]
}